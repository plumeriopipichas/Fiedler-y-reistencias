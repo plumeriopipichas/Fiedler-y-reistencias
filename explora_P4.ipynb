{
 "cells": [
  {
   "cell_type": "code",
   "execution_count": 33,
   "id": "b12aad13",
   "metadata": {},
   "outputs": [],
   "source": [
    "import matplotlib.pyplot as plt\n",
    "import numpy as np\n",
    "import networkx as nx\n",
    "import math\n",
    "\n",
    "from scipy import linalg as al\n",
    "from scipy import stats as est\n",
    "from collections import deque \n",
    "\n",
    "\n",
    "#cociente de Rayleigh para matriz A y vector v dados\n",
    "\n",
    "def rayleigh(A,v):\n",
    "    numerador = sp.dot(sp.dot(A,v),v)\n",
    "    denominador = sp.dot(v,v)\n",
    "    S = numerador/denominador\n",
    "    return S\n",
    "\n",
    "def eigenvalores(A):\n",
    "        av=list(al.eigh(A))\n",
    "    \n",
    "        av[0]=av[0].astype(float)\n",
    "        av[1]=av[1].astype(float)\n",
    "    \n",
    "        for i in range(len(av[0]-1)):\n",
    "            av[0][i]=round(float(av[0][i]),5)\n",
    "    \n",
    "        return av[0]\n",
    "    \n",
    "def eigenvectores(A):\n",
    "        av=list(al.eigh(A))\n",
    "    \n",
    "        av[1]=av[1].astype(float)\n",
    "    \n",
    "        for i in range(len(av[1]-1)):\n",
    "            for j in range(len(av[1][i]-1)):\n",
    "                av[1][i][j]=round(float(av[1][i][j]),3)\n",
    "    \n",
    "        return av[1].T\n",
    "    \n",
    "def Fiedler(G):\n",
    "        lap=nx.laplacian_matrix(G)\n",
    "        print(\"valor Fiedler\")\n",
    "        print(eigenvalores(lap.A)[1])\n",
    "        print(\"vector Fiedler\")\n",
    "        print(eigenvectores(lap.A)[1])\n",
    "        print(\"los eigenvalores\")\n",
    "        print(eigenvalores(lap.A))\n",
    "        \n",
    "        \n",
    "def weighted_path(n,pesos):\n",
    "    G = nx.path_graph(n)\n",
    "    for i in range(min(n-1,len(pesos))):\n",
    "        G[i][i+1]['weight']=pesos[i]\n",
    "    return(G)\n",
    "\n",
    "\n",
    "def hm_extrem(G):\n",
    "    d=est.hmean([G[0][1]['weight'],G[len(list(G.nodes))-2][len(list(G.nodes))-1]['weight']])\n",
    "    G[0][1]['weight']=d\n",
    "    G[len(list(G.nodes))-2][len(list(G.nodes))-1]['weight']=d\n",
    "    return(G)\n",
    "\n",
    "def K_index(G):    #El indice de Kirchoff de la grafica con pesos G\n",
    "    L=nx.laplacian_matrix(G)\n",
    "    return(sum(1/np.delete(eigenvalores(L.A),0)))\n",
    "\n",
    "\n",
    "\n"
   ]
  },
  {
   "cell_type": "code",
   "execution_count": 2,
   "id": "27c23f5a",
   "metadata": {},
   "outputs": [
    {
     "data": {
      "image/png": "[encoded data removed]",
      "text/plain": [
       "<Figure size 432x288 with 1 Axes>"
      ]
     },
     "metadata": {
      "needs_background": "light"
     },
     "output_type": "display_data"
    }
   ],
   "source": [
    "#P4 simetrico, su conectividad algebraica\n",
    "\n",
    "r = np.linspace(0.01,1.65, 200)\n",
    "lambda2 = (1/(r*(5-3*r)))*(5-r-np.sqrt(13*r**2-30*r+25))\n",
    "\n",
    "fig, ax = plt.subplots()\n",
    "\n",
    "ax.plot(r, lambda2)\n",
    "\n",
    "ax.set_xlabel(\"Métrica de resistencia $r$ entre $v_1$ and $v_2$\")\n",
    "ax.set_ylabel(\"Conectividad algebraica $\\lambda_2[r]$\")\n",
    "\n",
    "plt.title(\"P4 con pesos simétricos\")\n",
    "\n",
    "plt.show()\n",
    "\n",
    "\n",
    "plt.show()"
   ]
  },
  {
   "cell_type": "code",
   "execution_count": 3,
   "id": "b7792f43",
   "metadata": {},
   "outputs": [
    {
     "name": "stdout",
     "output_type": "stream",
     "text": [
      "[(0, 1), (1, 2), (2, 3)]\n"
     ]
    },
    {
     "data": {
      "image/png": "[encoded data removed]",
      "text/plain": [
       "<Figure size 432x288 with 1 Axes>"
      ]
     },
     "metadata": {},
     "output_type": "display_data"
    }
   ],
   "source": [
    "\n",
    "G=nx.path_graph(4)\n",
    "print(G.edges())\n",
    "\n",
    "G[0][1]['weight']=2\n",
    "G[1][2]['weight']=1.5\n",
    "G[2][3]['weight']=1.5\n",
    "\n",
    "\n",
    "nx.draw(G)"
   ]
  },
  {
   "cell_type": "code",
   "execution_count": 5,
   "id": "751e9d3e",
   "metadata": {},
   "outputs": [
    {
     "name": "stdout",
     "output_type": "stream",
     "text": [
      "[(0, 1, {'weight': 2}), (1, 2, {'weight': 4}), (2, 3, {'weight': 8.33})]\n"
     ]
    },
    {
     "data": {
      "image/png": "[encoded data removed]",
      "text/plain": [
       "<Figure size 432x288 with 1 Axes>"
      ]
     },
     "metadata": {},
     "output_type": "display_data"
    }
   ],
   "source": [
    "G=weighted_path(4,[2,4,8.33])\n",
    "\n",
    "print(G.edges.data())\n",
    "\n",
    "nx.draw(G)"
   ]
  },
  {
   "cell_type": "code",
   "execution_count": 16,
   "id": "84bab9ed",
   "metadata": {},
   "outputs": [
    {
     "name": "stdout",
     "output_type": "stream",
     "text": [
      "[[ 2.   -2.    0.    0.  ]\n",
      " [-2.    6.   -4.    0.  ]\n",
      " [ 0.   -4.   12.33 -8.33]\n",
      " [ 0.    0.   -8.33  8.33]]\n",
      "[ 0.       1.91109  7.09786 19.65105]\n",
      "[0.52326159 0.14088754 0.05088787]\n"
     ]
    },
    {
     "data": {
      "text/plain": [
       "0.7150369953277723"
      ]
     },
     "execution_count": 16,
     "metadata": {},
     "output_type": "execute_result"
    }
   ],
   "source": [
    "L=nx.laplacian_matrix(G)\n",
    "print(L.A)\n",
    "print(eigenvalores(L.A))\n",
    "print(1/np.delete(eigenvalores(L.A),0))\n",
    "sum(1/np.delete(eigenvalores(L.A),0))"
   ]
  },
  {
   "cell_type": "code",
   "execution_count": 68,
   "id": "b69f8a18",
   "metadata": {},
   "outputs": [
    {
     "data": {
      "text/plain": [
       "1.9950124688279303"
      ]
     },
     "execution_count": 68,
     "metadata": {},
     "output_type": "execute_result"
    }
   ],
   "source": [
    "est.hmean([1,400])"
   ]
  },
  {
   "cell_type": "code",
   "execution_count": 9,
   "id": "96de6f00",
   "metadata": {},
   "outputs": [
    {
     "name": "stdout",
     "output_type": "stream",
     "text": [
      "Grafica original\n",
      "valor Fiedler\n",
      "2.0\n",
      "vector Fiedler\n",
      "[-0.671 -0.224  0.224  0.671]\n",
      "los eigenvalores\n",
      "[ 0.  2.  6. 12.]\n",
      "Grafica simetrizada\n",
      "valor Fiedler\n",
      "2.0\n",
      "vector Fiedler\n",
      "[-0.671 -0.224  0.224  0.671]\n",
      "los eigenvalores\n",
      "[ 0.  2.  6. 12.]\n"
     ]
    }
   ],
   "source": [
    "G=weighted_path(4,[3,4,3])\n",
    "print(\"Grafica original\")\n",
    "Fiedler(G)\n",
    "G1=promediar_arm_extremos(G)\n",
    "print(\"Grafica simetrizada\")\n",
    "Fiedler(G1)"
   ]
  },
  {
   "cell_type": "code",
   "execution_count": 152,
   "id": "ea3bfaa6",
   "metadata": {},
   "outputs": [
    {
     "name": "stdout",
     "output_type": "stream",
     "text": [
      "['res', 0.1, 1.9000000000000001]\n",
      "['resims', 1.0, 1.0]\n",
      "['ces', 10.0, 0.5263157894736842]\n",
      "['cesims', 1.0, 1.0]\n",
      "['res', 0.19473684210526315, 1.8052631578947367]\n",
      "['resims', 0.9999999999999999, 0.9999999999999999]\n",
      "['ces', 5.135135135135135, 0.5539358600583091]\n",
      "['cesims', 1.0000000000000002, 1.0000000000000002]\n",
      "['res', 0.2894736842105263, 1.7105263157894737]\n",
      "['resims', 1.0, 1.0]\n",
      "['ces', 3.4545454545454546, 0.5846153846153846]\n",
      "['cesims', 1.0, 1.0]\n",
      "['res', 0.38421052631578945, 1.6157894736842107]\n",
      "['resims', 1.0, 1.0]\n",
      "['ces', 2.6027397260273974, 0.6188925081433224]\n",
      "['cesims', 1.0, 1.0]\n",
      "['res', 0.47894736842105257, 1.5210526315789474]\n",
      "['resims', 1.0, 1.0]\n",
      "['ces', 2.087912087912088, 0.657439446366782]\n",
      "['cesims', 1.0, 1.0]\n",
      "['res', 0.5736842105263157, 1.4263157894736842]\n",
      "['resims', 1.0, 1.0]\n",
      "['ces', 1.743119266055046, 0.7011070110701108]\n",
      "['cesims', 1.0, 1.0]\n",
      "['res', 0.6684210526315789, 1.3315789473684212]\n",
      "['resims', 1.0, 1.0]\n",
      "['ces', 1.4960629921259843, 0.75098814229249]\n",
      "['cesims', 1.0, 1.0]\n",
      "['res', 0.763157894736842, 1.236842105263158]\n",
      "['resims', 1.0, 1.0]\n",
      "['ces', 1.310344827586207, 0.8085106382978723]\n",
      "['cesims', 1.0, 1.0]\n",
      "['res', 0.8578947368421052, 1.1421052631578947]\n",
      "['resims', 1.0, 1.0]\n",
      "['ces', 1.1656441717791413, 0.8755760368663594]\n",
      "['cesims', 1.0, 1.0]\n",
      "['res', 0.9526315789473683, 1.0473684210526317]\n",
      "['resims', 1.0, 1.0]\n",
      "['ces', 1.0497237569060776, 0.9547738693467336]\n",
      "['cesims', 1.0, 1.0]\n",
      "['res', 1.0473684210526315, 0.9526315789473685]\n",
      "['resims', 1.0, 1.0]\n",
      "['ces', 0.9547738693467337, 1.0497237569060773]\n",
      "['cesims', 1.0, 1.0]\n",
      "['res', 1.1421052631578947, 0.8578947368421052]\n",
      "['resims', 1.0, 1.0]\n",
      "['ces', 0.8755760368663594, 1.1656441717791413]\n",
      "['cesims', 1.0, 1.0]\n",
      "['res', 1.236842105263158, 0.763157894736842]\n",
      "['resims', 1.0, 1.0]\n",
      "['ces', 0.8085106382978723, 1.310344827586207]\n",
      "['cesims', 1.0, 1.0]\n",
      "['res', 1.331578947368421, 0.668421052631579]\n",
      "['resims', 1.0, 1.0]\n",
      "['ces', 0.7509881422924901, 1.496062992125984]\n",
      "['cesims', 1.0, 1.0]\n",
      "['res', 1.4263157894736842, 0.5736842105263159]\n",
      "['resims', 1.0, 1.0]\n",
      "['ces', 0.7011070110701108, 1.7431192660550454]\n",
      "['cesims', 1.0, 1.0]\n",
      "['res', 1.5210526315789472, 0.47894736842105284]\n",
      "['resims', 1.0, 1.0]\n",
      "['ces', 0.6574394463667821, 2.087912087912087]\n",
      "['cesims', 1.0, 1.0]\n",
      "['res', 1.6157894736842104, 0.38421052631578956]\n",
      "['resims', 1.0, 1.0]\n",
      "['ces', 0.6188925081433225, 2.6027397260273966]\n",
      "['cesims', 1.0, 1.0]\n",
      "['res', 1.7105263157894737, 0.28947368421052627]\n",
      "['resims', 1.0, 1.0]\n",
      "['ces', 0.5846153846153846, 3.454545454545455]\n",
      "['cesims', 1.0, 1.0]\n",
      "['res', 1.8052631578947367, 0.19473684210526324]\n",
      "['resims', 1.0, 1.0]\n",
      "['ces', 0.5539358600583091, 5.135135135135133]\n",
      "['cesims', 1.0, 1.0]\n",
      "['res', 1.9, 0.10000000000000024]\n",
      "['resims', 1.0, 1.0]\n",
      "['ces', 0.5263157894736842, 9.999999999999975]\n",
      "['cesims', 1.0, 1.0]\n"
     ]
    }
   ],
   "source": [
    "r1 = np.linspace(0.1,1.9, 20)\n",
    "r2 = 1\n",
    "r3 = []\n",
    "for i in range(len(r1)):\n",
    "    r3 = r3 + [(10-4*r2-3*r1[i])/3]\n",
    "       \n",
    "\n",
    "fiedler_original=[]\n",
    "fiedler_simetrizado=[]\n",
    "\n",
    "for i in range(len(r1)):\n",
    "    resistencias = [r1[i],r2,r3[i]]\n",
    "    \n",
    "    conducs = []\n",
    "    conducs_simi = []\n",
    "    \n",
    "    for j in range(len(resistencias)):\n",
    "        conducs = conducs + [1/resistencias[j]]\n",
    "    \n",
    "    d = 2/((1/conducs[0])+(1/conducs[2]))    \n",
    "    conducs_simi = [d,conducs[1],d]\n",
    "    \n",
    "    print([\"res\",resistencias[0],resistencias[2]])\n",
    "    print([\"ces\",conducs[0],conducs[2]])\n",
    "    print([\"cesims\",conducs_simi[0],conducs_simi[2]])\n",
    "                    \n",
    "    G = weighted_path(4,conducs)\n",
    "    lap=nx.laplacian_matrix(G)\n",
    "    fiedler_original = fiedler_original  + [eigenvalores(lap.A)[1]]\n",
    "    \n",
    "    G1 = weighted_path(4,conducs_simi)\n",
    "    lap=nx.laplacian_matrix(G1)\n",
    "    fiedler_simetrizado = fiedler_simetrizado  + [eigenvalores(lap.A)[1]]\n",
    "    \n",
    "\n",
    "\n"
   ]
  },
  {
   "cell_type": "code",
   "execution_count": 122,
   "id": "0e3e5ccd",
   "metadata": {},
   "outputs": [
    {
     "data": {
      "image/png": "[encoded data removed]",
      "text/plain": [
       "<Figure size 432x288 with 1 Axes>"
      ]
     },
     "metadata": {
      "needs_background": "light"
     },
     "output_type": "display_data"
    }
   ],
   "source": [
    "\n",
    "plt.plot(r1,fiedler_original)\n",
    "plt.plot(r1,fiedler_simetrizado)\n",
    "\n",
    "\n",
    "plt.show()"
   ]
  },
  {
   "cell_type": "code",
   "execution_count": 100,
   "id": "ae9ae0e5",
   "metadata": {},
   "outputs": [
    {
     "name": "stdout",
     "output_type": "stream",
     "text": [
      "[0.1, 1.9000000000000001]\n",
      "[0.19473684210526315, 1.8052631578947367]\n",
      "[0.2894736842105263, 1.7105263157894737]\n",
      "[0.38421052631578945, 1.6157894736842107]\n",
      "[0.47894736842105257, 1.5210526315789474]\n",
      "[0.5736842105263157, 1.4263157894736842]\n",
      "[0.6684210526315789, 1.3315789473684212]\n",
      "[0.763157894736842, 1.236842105263158]\n",
      "[0.8578947368421052, 1.1421052631578947]\n",
      "[0.9526315789473683, 1.0473684210526317]\n",
      "[1.0473684210526315, 0.9526315789473685]\n",
      "[1.1421052631578947, 0.8578947368421052]\n",
      "[1.236842105263158, 0.763157894736842]\n",
      "[1.331578947368421, 0.668421052631579]\n",
      "[1.4263157894736842, 0.5736842105263159]\n",
      "[1.5210526315789472, 0.47894736842105284]\n",
      "[1.6157894736842104, 0.38421052631578956]\n",
      "[1.7105263157894737, 0.28947368421052627]\n",
      "[1.8052631578947367, 0.19473684210526324]\n",
      "[1.9, 0.10000000000000024]\n"
     ]
    }
   ],
   "source": [
    "r1 = np.linspace(0.1,1.9, 20)\n",
    "r2 = 1\n",
    "r3 = []\n",
    "for i in range(len(r1)):\n",
    "    r = 3*r1[i]\n",
    "    r3 = r3 + [(10-4-r)/3]\n",
    "    print([r1[i],r3[i]])"
   ]
  },
  {
   "cell_type": "code",
   "execution_count": 113,
   "id": "98a98237",
   "metadata": {},
   "outputs": [
    {
     "data": {
      "text/plain": [
       "EdgeDataView([(0, 1, {'weight': 0.47894736842105257}), (1, 2, {'weight': 1}), (2, 3, {'weight': 1.5210526315789474})])"
      ]
     },
     "execution_count": 113,
     "metadata": {},
     "output_type": "execute_result"
    }
   ],
   "source": [
    "G = weighted_path(4,[r1[4],r2,r3[4]])\n",
    "G.edges.data()"
   ]
  },
  {
   "cell_type": "code",
   "execution_count": 143,
   "id": "5b2ef743",
   "metadata": {},
   "outputs": [],
   "source": [
    "r1 = np.linspace(0.1,1.9, 20)\n",
    "r2 = 1\n",
    "r3 = []\n",
    "for i in range(len(r1)):\n",
    "    r3 = r3 + [(10-4*r2-3*r1[i])/3]"
   ]
  },
  {
   "cell_type": "code",
   "execution_count": 26,
   "id": "bb318a12",
   "metadata": {},
   "outputs": [
    {
     "name": "stdout",
     "output_type": "stream",
     "text": [
      "1 0\n",
      "2 0.5\n",
      "3 0.67\n",
      "4 0.75\n",
      "5 0.8\n",
      "6 0.83\n",
      "7 0.86\n",
      "8 0.88\n",
      "9 0.89\n",
      "10 0.9\n",
      "11 0.91\n",
      "12 0.92\n",
      "13 0.92\n",
      "14 0.93\n",
      "15 0.93\n",
      "16 0.94\n",
      "17 0.94\n",
      "18 0.94\n",
      "19 0.95\n",
      "20 0.95\n",
      "21 0.95\n",
      "22 0.95\n",
      "23 0.96\n",
      "24 0.96\n",
      "25 0.96\n",
      "26 0.96\n",
      "27 0.96\n",
      "28 0.96\n",
      "29 0.97\n",
      "30 0.97\n",
      "31 0.97\n",
      "32 0.97\n"
     ]
    }
   ],
   "source": [
    "for i in range(32):              #indices de Kirchoff de graficas completas\n",
    "    print(i+1,round(K_index(nx.complete_graph(i+1)),2))"
   ]
  },
  {
   "cell_type": "code",
   "execution_count": 27,
   "id": "22b63d2d",
   "metadata": {},
   "outputs": [
    {
     "name": "stdout",
     "output_type": "stream",
     "text": [
      "1 0\n",
      "2 0.5\n",
      "3 1.33\n",
      "4 2.5\n",
      "5 4.0\n",
      "6 5.83\n",
      "7 8.0\n",
      "8 10.5\n",
      "9 13.33\n",
      "10 16.5\n",
      "11 20.0\n",
      "12 23.83\n",
      "13 28.0\n",
      "14 32.5\n",
      "15 37.34\n",
      "16 42.5\n",
      "17 48.0\n",
      "18 53.84\n",
      "19 60.0\n",
      "20 66.51\n",
      "21 73.33\n",
      "22 80.49\n",
      "23 87.99\n",
      "24 95.83\n",
      "25 104.0\n",
      "26 112.51\n",
      "27 121.35\n",
      "28 130.47\n",
      "29 140.03\n",
      "30 149.8\n",
      "31 160.01\n",
      "32 170.51\n"
     ]
    }
   ],
   "source": [
    "for i in range(32):              #indices de Kirchoff de caminos\n",
    "    print(i+1,round(K_index(nx.path_graph(i+1)),2))"
   ]
  },
  {
   "cell_type": "code",
   "execution_count": 43,
   "id": "46ff7ec3",
   "metadata": {},
   "outputs": [
    {
     "name": "stdout",
     "output_type": "stream",
     "text": [
      "1 0\n",
      "2 0.5\n",
      "3 0.67\n",
      "4 1.25\n",
      "5 2.0\n",
      "6 2.92\n",
      "7 4.0\n",
      "8 5.25\n",
      "9 6.67\n",
      "10 8.25\n",
      "11 10.0\n",
      "12 11.92\n",
      "13 14.0\n",
      "14 16.25\n",
      "15 18.67\n",
      "16 21.25\n",
      "17 24.0\n",
      "18 26.92\n",
      "19 30.0\n",
      "20 33.25\n",
      "21 36.67\n",
      "22 40.25\n",
      "23 44.0\n",
      "24 47.92\n",
      "25 52.0\n",
      "26 56.25\n",
      "27 60.67\n",
      "28 65.25\n",
      "29 70.0\n",
      "30 74.92\n",
      "31 80.0\n",
      "32 85.25\n"
     ]
    }
   ],
   "source": [
    "for i in range(32):              #indices de Kirchoff de ciclos\n",
    "    print(i+1,round(K_index(nx.cycle_graph(i+1)),2))"
   ]
  },
  {
   "cell_type": "code",
   "execution_count": 39,
   "id": "d1784f84",
   "metadata": {},
   "outputs": [
    {
     "name": "stdout",
     "output_type": "stream",
     "text": [
      "4 1.67\n",
      "5 2.0\n",
      "6 2.33\n",
      "7 2.67\n",
      "8 3.0\n",
      "9 3.33\n",
      "10 3.67\n",
      "11 4.0\n",
      "12 4.33\n",
      "13 4.67\n",
      "14 5.0\n",
      "15 5.33\n",
      "16 5.67\n",
      "17 6.0\n",
      "18 6.33\n",
      "19 6.67\n",
      "20 7.0\n",
      "21 7.33\n",
      "22 7.67\n",
      "23 8.0\n",
      "24 8.33\n",
      "25 8.67\n",
      "26 9.0\n",
      "27 9.33\n",
      "28 9.66\n",
      "29 10.0\n",
      "30 10.33\n",
      "31 10.67\n"
     ]
    }
   ],
   "source": [
    "for n in range(4,32):              #resistencia promedio de caminos calculada a partir de Kirchoff index    \n",
    "    print(n,round(n*K_index(nx.path_graph(n))/math.comb(n,2),2))"
   ]
  },
  {
   "cell_type": "code",
   "execution_count": 41,
   "id": "3036d90c",
   "metadata": {},
   "outputs": [
    {
     "name": "stdout",
     "output_type": "stream",
     "text": [
      "3 0.67\n",
      "4 0.5\n",
      "5 0.4\n",
      "6 0.33\n",
      "7 0.29\n",
      "8 0.25\n",
      "9 0.22\n",
      "10 0.2\n",
      "11 0.18\n",
      "12 0.17\n",
      "13 0.15\n",
      "14 0.14\n",
      "15 0.13\n",
      "16 0.12\n",
      "17 0.12\n",
      "18 0.11\n",
      "19 0.11\n",
      "20 0.1\n",
      "21 0.1\n",
      "22 0.09\n",
      "23 0.09\n",
      "24 0.08\n",
      "25 0.08\n",
      "26 0.08\n",
      "27 0.07\n",
      "28 0.07\n",
      "29 0.07\n",
      "30 0.07\n",
      "31 0.06\n"
     ]
    }
   ],
   "source": [
    "for n in range(3,32):              #resistencia promedio de completas calculada a partir de Kirchoff index    \n",
    "    print(n,round(n*K_index(nx.complete_graph(n))/math.comb(n,2),2))"
   ]
  },
  {
   "cell_type": "code",
   "execution_count": 42,
   "id": "0e20e31c",
   "metadata": {},
   "outputs": [
    {
     "name": "stdout",
     "output_type": "stream",
     "text": [
      "3 0.67\n",
      "4 0.83\n",
      "5 1.0\n",
      "6 1.17\n",
      "7 1.33\n",
      "8 1.5\n",
      "9 1.67\n",
      "10 1.83\n",
      "11 2.0\n",
      "12 2.17\n",
      "13 2.33\n",
      "14 2.5\n",
      "15 2.67\n",
      "16 2.83\n",
      "17 3.0\n",
      "18 3.17\n",
      "19 3.33\n",
      "20 3.5\n",
      "21 3.67\n",
      "22 3.83\n",
      "23 4.0\n",
      "24 4.17\n",
      "25 4.33\n",
      "26 4.5\n",
      "27 4.67\n",
      "28 4.83\n",
      "29 5.0\n",
      "30 5.17\n",
      "31 5.33\n"
     ]
    }
   ],
   "source": [
    "for n in range(3,32):              #resistencia promedio de ciclos calculada a partir de Kirchoff index    \n",
    "    print(n,round(n*K_index(nx.cycle_graph(n))/math.comb(n,2),2))"
   ]
  }
 ],
 "metadata": {
  "kernelspec": {
   "display_name": "Python 3 (ipykernel)",
   "language": "python",
   "name": "python3"
  },
  "language_info": {
   "codemirror_mode": {
    "name": "ipython",
    "version": 3
   },
   "file_extension": ".py",
   "mimetype": "text/x-python",
   "name": "python",
   "nbconvert_exporter": "python",
   "pygments_lexer": "ipython3",
   "version": "3.9.7"
  }
 },
 "nbformat": 4,
 "nbformat_minor": 5
}
